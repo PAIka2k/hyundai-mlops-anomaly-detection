{
 "cells": [
  {
   "cell_type": "code",
   "execution_count": 1,
   "metadata": {},
   "outputs": [
    {
     "name": "stderr",
     "output_type": "stream",
     "text": [
      "ldf is not supported\n",
      "xls is not supported\n",
      "xlsx is not supported\n"
     ]
    }
   ],
   "source": [
    "from vdmsparser_asammdf_v2_1 import *"
   ]
  },
  {
   "cell_type": "code",
   "execution_count": 2,
   "metadata": {},
   "outputs": [],
   "source": [
    "# Create S3 client\n",
    "endpoint = ''\n",
    "access_key_id = ''\n",
    "secret_access_key = ''\n",
    "s3_client = init_s3_client(endpoint, access_key_id, secret_access_key)"
   ]
  },
  {
   "cell_type": "code",
   "execution_count": 3,
   "metadata": {},
   "outputs": [
    {
     "name": "stdout",
     "output_type": "stream",
     "text": [
      "Searching CAN/CCP data for key_id: 222700\n",
      "Searching GPS/DIAG data for key_id:  222700\n",
      "Done.\n",
      "\n",
      "\n",
      "Summary of object list\n",
      "        can_cnt  ccp_cnt  gps_cnt  diag_cnt\n",
      "key_id                                     \n",
      "222700      396      364      394         0\n"
     ]
    },
    {
     "data": {
      "text/html": [
       "<div>\n",
       "<style scoped>\n",
       "    .dataframe tbody tr th:only-of-type {\n",
       "        vertical-align: middle;\n",
       "    }\n",
       "\n",
       "    .dataframe tbody tr th {\n",
       "        vertical-align: top;\n",
       "    }\n",
       "\n",
       "    .dataframe thead th {\n",
       "        text-align: right;\n",
       "    }\n",
       "</style>\n",
       "<table border=\"1\" class=\"dataframe\">\n",
       "  <thead>\n",
       "    <tr style=\"text-align: right;\">\n",
       "      <th></th>\n",
       "      <th>Key</th>\n",
       "      <th>Size</th>\n",
       "    </tr>\n",
       "  </thead>\n",
       "  <tbody>\n",
       "    <tr>\n",
       "      <th>0</th>\n",
       "      <td>user/vdmsapp/merge_auto/mdf/2023/09/01/222700/...</td>\n",
       "      <td>895334</td>\n",
       "    </tr>\n",
       "    <tr>\n",
       "      <th>1</th>\n",
       "      <td>user/vdmsapp/merge_auto/mdf/2023/09/01/222700/...</td>\n",
       "      <td>933454</td>\n",
       "    </tr>\n",
       "    <tr>\n",
       "      <th>2</th>\n",
       "      <td>user/vdmsapp/merge_auto/mdf/2023/09/01/222700/...</td>\n",
       "      <td>19864872</td>\n",
       "    </tr>\n",
       "    <tr>\n",
       "      <th>3</th>\n",
       "      <td>user/vdmsapp/merge_auto/mdf/2023/09/01/222700/...</td>\n",
       "      <td>40579446</td>\n",
       "    </tr>\n",
       "    <tr>\n",
       "      <th>4</th>\n",
       "      <td>user/vdmsapp/merge_auto/mdf/2023/09/01/222700/...</td>\n",
       "      <td>772203</td>\n",
       "    </tr>\n",
       "    <tr>\n",
       "      <th>...</th>\n",
       "      <td>...</td>\n",
       "      <td>...</td>\n",
       "    </tr>\n",
       "    <tr>\n",
       "      <th>1149</th>\n",
       "      <td>user/vdmsapp/merge_auto/raw/2023/10/04/222700/...</td>\n",
       "      <td>320840</td>\n",
       "    </tr>\n",
       "    <tr>\n",
       "      <th>1150</th>\n",
       "      <td>user/vdmsapp/merge_auto/raw/2023/10/04/222700/...</td>\n",
       "      <td>9781829</td>\n",
       "    </tr>\n",
       "    <tr>\n",
       "      <th>1151</th>\n",
       "      <td>user/vdmsapp/merge_auto/raw/2023/10/04/222700/...</td>\n",
       "      <td>56996</td>\n",
       "    </tr>\n",
       "    <tr>\n",
       "      <th>1152</th>\n",
       "      <td>user/vdmsapp/merge_auto/raw/2023/10/04/222700/...</td>\n",
       "      <td>74033</td>\n",
       "    </tr>\n",
       "    <tr>\n",
       "      <th>1153</th>\n",
       "      <td>user/vdmsapp/merge_auto/raw/2023/10/04/222700/...</td>\n",
       "      <td>4502303</td>\n",
       "    </tr>\n",
       "  </tbody>\n",
       "</table>\n",
       "<p>1154 rows × 2 columns</p>\n",
       "</div>"
      ],
      "text/plain": [
       "                                                    Key      Size\n",
       "0     user/vdmsapp/merge_auto/mdf/2023/09/01/222700/...    895334\n",
       "1     user/vdmsapp/merge_auto/mdf/2023/09/01/222700/...    933454\n",
       "2     user/vdmsapp/merge_auto/mdf/2023/09/01/222700/...  19864872\n",
       "3     user/vdmsapp/merge_auto/mdf/2023/09/01/222700/...  40579446\n",
       "4     user/vdmsapp/merge_auto/mdf/2023/09/01/222700/...    772203\n",
       "...                                                 ...       ...\n",
       "1149  user/vdmsapp/merge_auto/raw/2023/10/04/222700/...    320840\n",
       "1150  user/vdmsapp/merge_auto/raw/2023/10/04/222700/...   9781829\n",
       "1151  user/vdmsapp/merge_auto/raw/2023/10/04/222700/...     56996\n",
       "1152  user/vdmsapp/merge_auto/raw/2023/10/04/222700/...     74033\n",
       "1153  user/vdmsapp/merge_auto/raw/2023/10/04/222700/...   4502303\n",
       "\n",
       "[1154 rows x 2 columns]"
      ]
     },
     "execution_count": 3,
     "metadata": {},
     "output_type": "execute_result"
    }
   ],
   "source": [
    "# Get target vdms data objects from s3 objects storage\n",
    "bucket_name = 'vdms'\n",
    "key_ids = ['222700'] # MV\n",
    "# key_ids = ['212362', '211254']\n",
    "# # key_ids = [ '211254', '211659']\n",
    "date_range = ['20230901', '20231004']\n",
    "# key_ids = ['178794']\n",
    "# date_range = ['20230202', '20230203']\n",
    "srch_data_tp = ['CAN','CCP','GPS','DIAG'] # for searching\n",
    "obj_list = get_s3_vdms_objs(s3_client, bucket_name, key_ids, date_range, srch_data_tp)\n",
    "obj_list"
   ]
  },
  {
   "cell_type": "code",
   "execution_count": null,
   "metadata": {},
   "outputs": [],
   "source": [
    "# obj_list.Key.iloc[3]"
   ]
  },
  {
   "cell_type": "code",
   "execution_count": 4,
   "metadata": {},
   "outputs": [
    {
     "name": "stdout",
     "output_type": "stream",
     "text": [
      "Error data check:\n",
      "                can_cnt  ccp_cnt\n",
      "key_id drv_cyc                  \n",
      "222700 159            1        0\n",
      "       177            1        0\n",
      "       178            1        0\n",
      "       179            1        0\n",
      "       180            1        0\n",
      "       199            1        0\n",
      "       267            1        0\n",
      "       286            1        0\n",
      "       296            1        0\n",
      "       297            1        0\n",
      "       298            1        0\n",
      "       299            1        0\n",
      "       300            1        0\n",
      "       310            1        0\n",
      "       331            1        0\n",
      "       341            1        0\n",
      "       344            1        0\n",
      "       345            1        0\n",
      "       346            1        0\n",
      "       347            1        0\n",
      "       358            1        0\n",
      "       390            1        0\n",
      "       392            1        0\n",
      "       393            1        0\n",
      "       397            1        0\n",
      "       398            1        0\n",
      "       400            1        0\n",
      "       421            1        0\n",
      "       422            1        0\n",
      "       43             1        0\n",
      "       52             1        0\n",
      "       76             1        0\n",
      "\n",
      "\n"
     ]
    },
    {
     "data": {
      "text/html": [
       "<div>\n",
       "<style scoped>\n",
       "    .dataframe tbody tr th:only-of-type {\n",
       "        vertical-align: middle;\n",
       "    }\n",
       "\n",
       "    .dataframe tbody tr th {\n",
       "        vertical-align: top;\n",
       "    }\n",
       "\n",
       "    .dataframe thead th {\n",
       "        text-align: right;\n",
       "    }\n",
       "</style>\n",
       "<table border=\"1\" class=\"dataframe\">\n",
       "  <thead>\n",
       "    <tr style=\"text-align: right;\">\n",
       "      <th></th>\n",
       "      <th>Key</th>\n",
       "      <th>Size</th>\n",
       "    </tr>\n",
       "  </thead>\n",
       "  <tbody>\n",
       "    <tr>\n",
       "      <th>0</th>\n",
       "      <td>user/vdmsapp/merge_auto/mdf/2023/09/01/222700/...</td>\n",
       "      <td>19864872</td>\n",
       "    </tr>\n",
       "    <tr>\n",
       "      <th>1</th>\n",
       "      <td>user/vdmsapp/merge_auto/mdf/2023/09/01/222700/...</td>\n",
       "      <td>40579446</td>\n",
       "    </tr>\n",
       "    <tr>\n",
       "      <th>2</th>\n",
       "      <td>user/vdmsapp/merge_auto/mdf/2023/09/01/222700/...</td>\n",
       "      <td>49751553</td>\n",
       "    </tr>\n",
       "    <tr>\n",
       "      <th>3</th>\n",
       "      <td>user/vdmsapp/merge_auto/mdf/2023/09/01/222700/...</td>\n",
       "      <td>104329286</td>\n",
       "    </tr>\n",
       "    <tr>\n",
       "      <th>4</th>\n",
       "      <td>user/vdmsapp/merge_auto/mdf/2023/09/01/222700/...</td>\n",
       "      <td>20768138</td>\n",
       "    </tr>\n",
       "    <tr>\n",
       "      <th>...</th>\n",
       "      <td>...</td>\n",
       "      <td>...</td>\n",
       "    </tr>\n",
       "    <tr>\n",
       "      <th>137</th>\n",
       "      <td>user/vdmsapp/merge_auto/mdf/2023/10/04/222700/...</td>\n",
       "      <td>33193578</td>\n",
       "    </tr>\n",
       "    <tr>\n",
       "      <th>138</th>\n",
       "      <td>user/vdmsapp/merge_auto/mdf/2023/10/04/222700/...</td>\n",
       "      <td>54392292</td>\n",
       "    </tr>\n",
       "    <tr>\n",
       "      <th>139</th>\n",
       "      <td>user/vdmsapp/merge_auto/mdf/2023/10/04/222700/...</td>\n",
       "      <td>114447290</td>\n",
       "    </tr>\n",
       "    <tr>\n",
       "      <th>140</th>\n",
       "      <td>user/vdmsapp/merge_auto/mdf/2023/10/04/222700/...</td>\n",
       "      <td>25584800</td>\n",
       "    </tr>\n",
       "    <tr>\n",
       "      <th>141</th>\n",
       "      <td>user/vdmsapp/merge_auto/mdf/2023/10/04/222700/...</td>\n",
       "      <td>52814334</td>\n",
       "    </tr>\n",
       "  </tbody>\n",
       "</table>\n",
       "<p>142 rows × 2 columns</p>\n",
       "</div>"
      ],
      "text/plain": [
       "                                                   Key       Size\n",
       "0    user/vdmsapp/merge_auto/mdf/2023/09/01/222700/...   19864872\n",
       "1    user/vdmsapp/merge_auto/mdf/2023/09/01/222700/...   40579446\n",
       "2    user/vdmsapp/merge_auto/mdf/2023/09/01/222700/...   49751553\n",
       "3    user/vdmsapp/merge_auto/mdf/2023/09/01/222700/...  104329286\n",
       "4    user/vdmsapp/merge_auto/mdf/2023/09/01/222700/...   20768138\n",
       "..                                                 ...        ...\n",
       "137  user/vdmsapp/merge_auto/mdf/2023/10/04/222700/...   33193578\n",
       "138  user/vdmsapp/merge_auto/mdf/2023/10/04/222700/...   54392292\n",
       "139  user/vdmsapp/merge_auto/mdf/2023/10/04/222700/...  114447290\n",
       "140  user/vdmsapp/merge_auto/mdf/2023/10/04/222700/...   25584800\n",
       "141  user/vdmsapp/merge_auto/mdf/2023/10/04/222700/...   52814334\n",
       "\n",
       "[142 rows x 2 columns]"
      ]
     },
     "execution_count": 4,
     "metadata": {},
     "output_type": "execute_result"
    }
   ],
   "source": [
    "# Get filtered vdms data objects from the searched objected above\n",
    "# Filter condition 1: count pairs for each data type based on key_id and drv_cyc\n",
    "# Filter condition 2: exclude drv_cyc containing small size of CAN/CCP data (set by min_size parameter)\n",
    "parsing_data_tp = ['CAN','CCP'] # for parsing, 'DIAG' cannot be used here\n",
    "min_size = 10 # Set minimum size of CAN, CCP/XCP files to filter out [unit: MB]\n",
    "filt_obj_list = filter_s3_drvlog_objs(obj_list, parsing_data_tp, min_size)\n",
    "filt_obj_list"
   ]
  },
  {
   "cell_type": "code",
   "execution_count": 5,
   "metadata": {},
   "outputs": [
    {
     "name": "stdout",
     "output_type": "stream",
     "text": [
      "Parsing vdms data and saving outputs.... "
     ]
    },
    {
     "name": "stderr",
     "output_type": "stream",
     "text": [
      "100%|██████████| 71/71 [17:20<00:00, 14.66s/it]"
     ]
    },
    {
     "name": "stdout",
     "output_type": "stream",
     "text": [
      "Done.\n"
     ]
    },
    {
     "name": "stderr",
     "output_type": "stream",
     "text": [
      "\n"
     ]
    }
   ],
   "source": [
    "# Perfome parsing vdms data and merge them under synchronized timestep (or timestamp)\n",
    "save_dir = 'D:/pu20/' # Set output saving directory\n",
    "can_chlist_file = save_dir + 'can_chlist_pu_v1.csv' # Set a csv file that contains a list of can signals should be defined if 'can' in parsing data type\n",
    "# can_chlist_file = []\n",
    "samp_period = 0.1 # Sampling period (or raster) Unit [s], only 0.1s or 1s\n",
    "### 현재 join_method 변수 안 쓰임 \n",
    "# join_method = 'inner' # Set a way to merge parsed data\n",
    "s3_vdms_pars_merging(filt_obj_list, parsing_data_tp, can_chlist_file, samp_period, s3_client, save_dir)"
   ]
  },
  {
   "cell_type": "code",
   "execution_count": null,
   "metadata": {},
   "outputs": [],
   "source": []
  }
 ],
 "metadata": {
  "kernelspec": {
   "display_name": "kernel-tf-270",
   "language": "python",
   "name": "tf-270"
  },
  "language_info": {
   "codemirror_mode": {
    "name": "ipython",
    "version": 3
   },
   "file_extension": ".py",
   "mimetype": "text/x-python",
   "name": "python",
   "nbconvert_exporter": "python",
   "pygments_lexer": "ipython3",
   "version": "3.8.10"
  },
  "orig_nbformat": 4
 },
 "nbformat": 4,
 "nbformat_minor": 2
}
