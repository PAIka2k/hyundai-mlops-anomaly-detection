{
 "cells": [
  {
   "cell_type": "markdown",
   "id": "c778b5c5-39a0-4fa9-b5a8-16054f0d4788",
   "metadata": {},
   "source": [
    "# End-to-end tutorial (OCSVM)\n",
    "---\n",
    "현대차 제공 OCSVM End to end 튜토리얼"
   ]
  },
  {
   "cell_type": "code",
   "execution_count": 1,
   "id": "f0e391d5-f497-4b6c-a0a7-309145cffa66",
   "metadata": {},
   "outputs": [],
   "source": [
    "import os\n",
    "import datetime\n",
    "import numpy as np\n",
    "import pandas as pd\n",
    "import matplotlib.pyplot as plt\n",
    "from data_preprocess import PreprocessData\n",
    "\n",
    "from sklearn.svm import OneClassSVM\n",
    "from tensorflow.keras.layers import Input, Dense\n",
    "from tensorflow.keras.models import Model\n",
    "from tensorflow.keras.callbacks import EarlyStopping\n",
    "from tensorflow.keras.optimizers import Adam"
   ]
  },
  {
   "cell_type": "markdown",
   "id": "0088ab49-a2ba-4920-aed7-fc03c8f38fcd",
   "metadata": {},
   "source": [
    "## Prepare Dataset"
   ]
  },
  {
   "cell_type": "code",
   "execution_count": 2,
   "id": "50fb6f7e-6e49-45ce-b6a3-382204cc5463",
   "metadata": {},
   "outputs": [],
   "source": [
    "root_dir = '../datasets'\n",
    "fname = 'pu_batt_sample10.csv'\n",
    "dataset_dir = os.path.join(root_dir, fname)"
   ]
  },
  {
   "cell_type": "code",
   "execution_count": 3,
   "id": "3d1ad7ba-c6f4-4bed-8755-adbf2bac3d23",
   "metadata": {},
   "outputs": [
    {
     "name": "stdout",
     "output_type": "stream",
     "text": [
      "(129663, 90) (129663, 9)\n"
     ]
    }
   ],
   "source": [
    "ocsvm_dp = PreprocessData(dataset_dir, 'ocsvm')\n",
    "ocsvm_scaled_vol_data, ocsvm_scaled_other_data = ocsvm_dp.preprocess_data()\n",
    "print(ocsvm_scaled_vol_data.shape, ocsvm_scaled_other_data.shape)"
   ]
  },
  {
   "cell_type": "markdown",
   "id": "8d06faf1-15b0-40f3-a506-406e6db7f9b1",
   "metadata": {},
   "source": [
    "## Dimensionality Reduction"
   ]
  },
  {
   "cell_type": "code",
   "execution_count": 4,
   "id": "4e4312df-3d83-4f57-b1d1-1d1aadf44cab",
   "metadata": {},
   "outputs": [
    {
     "name": "stdout",
     "output_type": "stream",
     "text": [
      "Model: \"model\"\n",
      "_________________________________________________________________\n",
      " Layer (type)                Output Shape              Param #   \n",
      "=================================================================\n",
      " input_1 (InputLayer)        [(None, 90)]              0         \n",
      "                                                                 \n",
      " encode1 (Dense)             (None, 64)                5824      \n",
      "                                                                 \n",
      " encode2 (Dense)             (None, 32)                2080      \n",
      "                                                                 \n",
      " encode3 (Dense)             (None, 10)                330       \n",
      "                                                                 \n",
      " decode1 (Dense)             (None, 32)                352       \n",
      "                                                                 \n",
      " decode2 (Dense)             (None, 64)                2112      \n",
      "                                                                 \n",
      " decode3 (Dense)             (None, 90)                5850      \n",
      "                                                                 \n",
      "=================================================================\n",
      "Total params: 16548 (64.64 KB)\n",
      "Trainable params: 16548 (64.64 KB)\n",
      "Non-trainable params: 0 (0.00 Byte)\n",
      "_________________________________________________________________\n"
     ]
    }
   ],
   "source": [
    "# %% 모델학습\n",
    "# AE 전셀전압 차원축소\n",
    "inputs = Input(shape=(ocsvm_scaled_vol_data.shape[1],))\n",
    "encoded = Dense(64, activation='tanh', name=\"encode1\")(inputs)\n",
    "encoded = Dense(32, activation='tanh', name=\"encode2\")(encoded)\n",
    "encoded = Dense(10, activation='tanh', name=\"encode3\")(encoded)\n",
    "decoded = Dense(32, activation='tanh', name=\"decode1\")(encoded)\n",
    "decoded = Dense(64, activation='tanh', name=\"decode2\")(decoded)\n",
    "decoded = Dense(ocsvm_scaled_vol_data.shape[1], name=\"decode3\")(decoded)\n",
    "autoencoder = Model(inputs, decoded)\n",
    "autoencoder.summary()"
   ]
  },
  {
   "cell_type": "code",
   "execution_count": 5,
   "id": "585a2d75-7605-4361-b647-6b8388fc1edb",
   "metadata": {},
   "outputs": [
    {
     "name": "stderr",
     "output_type": "stream",
     "text": [
      "WARNING:absl:At this time, the v2.11+ optimizer `tf.keras.optimizers.Adam` runs slowly on M1/M2 Macs, please use the legacy Keras optimizer instead, located at `tf.keras.optimizers.legacy.Adam`.\n",
      "WARNING:absl:There is a known slowdown when using v2.11+ Keras optimizers on M1/M2 Macs. Falling back to the legacy Keras optimizer, i.e., `tf.keras.optimizers.legacy.Adam`.\n"
     ]
    },
    {
     "name": "stdout",
     "output_type": "stream",
     "text": [
      "Epoch 1/3\n",
      "3242/3242 [==============================] - 3s 1000us/step - loss: 0.0025 - val_loss: 7.3233e-04\n",
      "Epoch 2/3\n",
      "3242/3242 [==============================] - 3s 941us/step - loss: 4.2318e-05 - val_loss: 7.5866e-06\n",
      "Epoch 3/3\n",
      "3242/3242 [==============================] - 3s 943us/step - loss: 3.5060e-05 - val_loss: 7.9136e-05\n"
     ]
    }
   ],
   "source": [
    "# %% Early stopping 콜백 정의\n",
    "early_stopping = EarlyStopping(monitor='val_loss', patience=10, verbose=1)\n",
    "\n",
    "# AE 모델 컴파일 및 학습\n",
    "optimizer = Adam(learning_rate=0.001, beta_1=0.9, beta_2=0.999)\n",
    "autoencoder.compile(optimizer=optimizer, loss='mse')\n",
    "history = autoencoder.fit(ocsvm_scaled_vol_data, ocsvm_scaled_vol_data, batch_size=32, epochs=3, validation_split=0.2,\n",
    "                          callbacks=[early_stopping])  # Early stopping 콜백 추가"
   ]
  },
  {
   "cell_type": "code",
   "execution_count": 6,
   "id": "937b2d93-da37-4478-a68a-56a82c8f32c7",
   "metadata": {},
   "outputs": [
    {
     "name": "stdout",
     "output_type": "stream",
     "text": [
      "0 input_1 <keras.src.engine.input_layer.InputLayer object at 0x1273e8460>\n",
      "1 encode1 <keras.src.layers.core.dense.Dense object at 0x146737160>\n",
      "2 encode2 <keras.src.layers.core.dense.Dense object at 0x146737f70>\n",
      "3 encode3 <keras.src.layers.core.dense.Dense object at 0x146737f10>\n",
      "4 decode1 <keras.src.layers.core.dense.Dense object at 0x146825910>\n",
      "5 decode2 <keras.src.layers.core.dense.Dense object at 0x146825e50>\n",
      "6 decode3 <keras.src.layers.core.dense.Dense object at 0x1468250a0>\n"
     ]
    }
   ],
   "source": [
    "for idx, layer in enumerate(autoencoder.layers):\n",
    "    print(idx, layer.name, layer)"
   ]
  },
  {
   "cell_type": "code",
   "execution_count": 7,
   "id": "13cbbd5a-08bf-4f25-a802-12778bed8d51",
   "metadata": {},
   "outputs": [
    {
     "name": "stdout",
     "output_type": "stream",
     "text": [
      "Model: \"model_1\"\n",
      "_________________________________________________________________\n",
      " Layer (type)                Output Shape              Param #   \n",
      "=================================================================\n",
      " input_1 (InputLayer)        [(None, 90)]              0         \n",
      "                                                                 \n",
      " encode1 (Dense)             (None, 64)                5824      \n",
      "                                                                 \n",
      " encode2 (Dense)             (None, 32)                2080      \n",
      "                                                                 \n",
      " encode3 (Dense)             (None, 10)                330       \n",
      "                                                                 \n",
      "=================================================================\n",
      "Total params: 8234 (32.16 KB)\n",
      "Trainable params: 8234 (32.16 KB)\n",
      "Non-trainable params: 0 (0.00 Byte)\n",
      "_________________________________________________________________\n"
     ]
    }
   ],
   "source": [
    "encoder_model = Model(autoencoder.layers[0].input, autoencoder.layers[3].output)\n",
    "encoder_model.summary()"
   ]
  },
  {
   "cell_type": "code",
   "execution_count": 8,
   "id": "6d42dbd4-4009-4e01-80d1-75ae7c7105a2",
   "metadata": {},
   "outputs": [
    {
     "name": "stdout",
     "output_type": "stream",
     "text": [
      "4052/4052 [==============================] - 1s 331us/step\n"
     ]
    }
   ],
   "source": [
    "latent_vector = encoder_model.predict(ocsvm_scaled_vol_data)"
   ]
  },
  {
   "cell_type": "markdown",
   "id": "b0ae844e-b8a3-4964-8c79-e8ba5779e95d",
   "metadata": {},
   "source": [
    "## Train OCSVM model"
   ]
  },
  {
   "cell_type": "code",
   "execution_count": 9,
   "id": "ab1c75ad-3df2-43f1-b716-07976e08a78c",
   "metadata": {},
   "outputs": [
    {
     "data": {
      "text/plain": [
       "(129663, 19)"
      ]
     },
     "execution_count": 9,
     "metadata": {},
     "output_type": "execute_result"
    }
   ],
   "source": [
    "ocsvm_train_data = np.concatenate((ocsvm_scaled_other_data, latent_vector), axis=1)\n",
    "ocsvm_train_data.shape"
   ]
  },
  {
   "cell_type": "code",
   "execution_count": 10,
   "id": "c76c39ec-988f-4471-91f9-c90df40736d4",
   "metadata": {},
   "outputs": [
    {
     "data": {
      "text/html": [
       "<style>#sk-container-id-1 {color: black;}#sk-container-id-1 pre{padding: 0;}#sk-container-id-1 div.sk-toggleable {background-color: white;}#sk-container-id-1 label.sk-toggleable__label {cursor: pointer;display: block;width: 100%;margin-bottom: 0;padding: 0.3em;box-sizing: border-box;text-align: center;}#sk-container-id-1 label.sk-toggleable__label-arrow:before {content: \"▸\";float: left;margin-right: 0.25em;color: #696969;}#sk-container-id-1 label.sk-toggleable__label-arrow:hover:before {color: black;}#sk-container-id-1 div.sk-estimator:hover label.sk-toggleable__label-arrow:before {color: black;}#sk-container-id-1 div.sk-toggleable__content {max-height: 0;max-width: 0;overflow: hidden;text-align: left;background-color: #f0f8ff;}#sk-container-id-1 div.sk-toggleable__content pre {margin: 0.2em;color: black;border-radius: 0.25em;background-color: #f0f8ff;}#sk-container-id-1 input.sk-toggleable__control:checked~div.sk-toggleable__content {max-height: 200px;max-width: 100%;overflow: auto;}#sk-container-id-1 input.sk-toggleable__control:checked~label.sk-toggleable__label-arrow:before {content: \"▾\";}#sk-container-id-1 div.sk-estimator input.sk-toggleable__control:checked~label.sk-toggleable__label {background-color: #d4ebff;}#sk-container-id-1 div.sk-label input.sk-toggleable__control:checked~label.sk-toggleable__label {background-color: #d4ebff;}#sk-container-id-1 input.sk-hidden--visually {border: 0;clip: rect(1px 1px 1px 1px);clip: rect(1px, 1px, 1px, 1px);height: 1px;margin: -1px;overflow: hidden;padding: 0;position: absolute;width: 1px;}#sk-container-id-1 div.sk-estimator {font-family: monospace;background-color: #f0f8ff;border: 1px dotted black;border-radius: 0.25em;box-sizing: border-box;margin-bottom: 0.5em;}#sk-container-id-1 div.sk-estimator:hover {background-color: #d4ebff;}#sk-container-id-1 div.sk-parallel-item::after {content: \"\";width: 100%;border-bottom: 1px solid gray;flex-grow: 1;}#sk-container-id-1 div.sk-label:hover label.sk-toggleable__label {background-color: #d4ebff;}#sk-container-id-1 div.sk-serial::before {content: \"\";position: absolute;border-left: 1px solid gray;box-sizing: border-box;top: 0;bottom: 0;left: 50%;z-index: 0;}#sk-container-id-1 div.sk-serial {display: flex;flex-direction: column;align-items: center;background-color: white;padding-right: 0.2em;padding-left: 0.2em;position: relative;}#sk-container-id-1 div.sk-item {position: relative;z-index: 1;}#sk-container-id-1 div.sk-parallel {display: flex;align-items: stretch;justify-content: center;background-color: white;position: relative;}#sk-container-id-1 div.sk-item::before, #sk-container-id-1 div.sk-parallel-item::before {content: \"\";position: absolute;border-left: 1px solid gray;box-sizing: border-box;top: 0;bottom: 0;left: 50%;z-index: -1;}#sk-container-id-1 div.sk-parallel-item {display: flex;flex-direction: column;z-index: 1;position: relative;background-color: white;}#sk-container-id-1 div.sk-parallel-item:first-child::after {align-self: flex-end;width: 50%;}#sk-container-id-1 div.sk-parallel-item:last-child::after {align-self: flex-start;width: 50%;}#sk-container-id-1 div.sk-parallel-item:only-child::after {width: 0;}#sk-container-id-1 div.sk-dashed-wrapped {border: 1px dashed gray;margin: 0 0.4em 0.5em 0.4em;box-sizing: border-box;padding-bottom: 0.4em;background-color: white;}#sk-container-id-1 div.sk-label label {font-family: monospace;font-weight: bold;display: inline-block;line-height: 1.2em;}#sk-container-id-1 div.sk-label-container {text-align: center;}#sk-container-id-1 div.sk-container {/* jupyter's `normalize.less` sets `[hidden] { display: none; }` but bootstrap.min.css set `[hidden] { display: none !important; }` so we also need the `!important` here to be able to override the default hidden behavior on the sphinx rendered scikit-learn.org. See: https://github.com/scikit-learn/scikit-learn/issues/21755 */display: inline-block !important;position: relative;}#sk-container-id-1 div.sk-text-repr-fallback {display: none;}</style><div id=\"sk-container-id-1\" class=\"sk-top-container\"><div class=\"sk-text-repr-fallback\"><pre>OneClassSVM(gamma=&#x27;auto&#x27;, nu=0.0005)</pre><b>In a Jupyter environment, please rerun this cell to show the HTML representation or trust the notebook. <br />On GitHub, the HTML representation is unable to render, please try loading this page with nbviewer.org.</b></div><div class=\"sk-container\" hidden><div class=\"sk-item\"><div class=\"sk-estimator sk-toggleable\"><input class=\"sk-toggleable__control sk-hidden--visually\" id=\"sk-estimator-id-1\" type=\"checkbox\" checked><label for=\"sk-estimator-id-1\" class=\"sk-toggleable__label sk-toggleable__label-arrow\">OneClassSVM</label><div class=\"sk-toggleable__content\"><pre>OneClassSVM(gamma=&#x27;auto&#x27;, nu=0.0005)</pre></div></div></div></div></div>"
      ],
      "text/plain": [
       "OneClassSVM(gamma='auto', nu=0.0005)"
      ]
     },
     "execution_count": 10,
     "metadata": {},
     "output_type": "execute_result"
    }
   ],
   "source": [
    "# OCSVM 학습\n",
    "anomal_ratio = 0.0005\n",
    "ocsvm_model = OneClassSVM(nu=anomal_ratio, kernel='rbf', gamma='auto')\n",
    "ocsvm_model.fit(ocsvm_train_data)"
   ]
  },
  {
   "cell_type": "markdown",
   "id": "9f0c8844-5c47-4f36-b9b1-73370d17e36a",
   "metadata": {},
   "source": [
    "## Plot Result"
   ]
  },
  {
   "cell_type": "code",
   "execution_count": 11,
   "id": "3a553521-5c3a-46eb-9f67-93ce0fb391c6",
   "metadata": {},
   "outputs": [
    {
     "data": {
      "image/png": "[encoded data removed]",
      "text/plain": [
       "<Figure size 640x480 with 1 Axes>"
      ]
     },
     "metadata": {},
     "output_type": "display_data"
    }
   ],
   "source": [
    "ocsvm_result = ocsvm_model.predict(ocsvm_train_data)\n",
    "ocsvm_train_data = np.array(ocsvm_train_data)\n",
    "plt.plot(range(len(ocsvm_train_data)), ocsvm_train_data[:, 8], color='b', label='Normal')\n",
    "outliers = ocsvm_train_data[ocsvm_result == -1]\n",
    "plt.scatter(np.where(ocsvm_result == -1)[0], outliers[:, 8], color='r', marker='o', label='Anomaly')\n",
    "plt.xlabel('samples')\n",
    "plt.ylabel('delta_voltage')\n",
    "plt.title('Outlier Detection')\n",
    "plt.legend()\n",
    "plt.show()"
   ]
  }
 ],
 "metadata": {
  "kernelspec": {
   "display_name": "Python 3 (ipykernel)",
   "language": "python",
   "name": "python3"
  },
  "language_info": {
   "codemirror_mode": {
    "name": "ipython",
    "version": 3
   },
   "file_extension": ".py",
   "mimetype": "text/x-python",
   "name": "python",
   "nbconvert_exporter": "python",
   "pygments_lexer": "ipython3",
   "version": "3.9.18"
  }
 },
 "nbformat": 4,
 "nbformat_minor": 5
}
