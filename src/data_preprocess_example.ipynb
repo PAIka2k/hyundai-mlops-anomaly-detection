{
 "cells": [
  {
   "cell_type": "code",
   "execution_count": 1,
   "id": "ed17a527-31d6-4ee6-878d-df64a088e3cf",
   "metadata": {},
   "outputs": [],
   "source": [
    "import os\n",
    "import datetime\n",
    "import pandas as pd"
   ]
  },
  {
   "cell_type": "code",
   "execution_count": 2,
   "id": "bd7b7537-5aba-41f9-bb17-cb9bf449a6dc",
   "metadata": {},
   "outputs": [],
   "source": [
    "root_dir = '../datasets'\n",
    "fname = 'pu_batt_sample10.csv'\n",
    "dataset_dir = os.path.join(root_dir, fname)"
   ]
  },
  {
   "cell_type": "code",
   "execution_count": 3,
   "id": "fb075b78-a593-45d5-8bae-56b60a2af784",
   "metadata": {},
   "outputs": [],
   "source": [
    "from data_preprocess import DataPreprocess"
   ]
  },
  {
   "cell_type": "code",
   "execution_count": 7,
   "id": "0e339a82-f3b9-4a2b-b700-9ba674f01f63",
   "metadata": {},
   "outputs": [
    {
     "name": "stdout",
     "output_type": "stream",
     "text": [
      "(129663, 90) (129663, 10)\n"
     ]
    }
   ],
   "source": [
    "lstm_dp = DataPreprocess(dataset_dir, 'lstm')\n",
    "lstm_scaled_vol_data, lstm_scaled_other_data = lstm_dp.data_preprocess()\n",
    "print(lstm_scaled_vol_data.shape, lstm_scaled_other_data.shape)"
   ]
  },
  {
   "cell_type": "code",
   "execution_count": 8,
   "id": "a0338c93-9aab-444b-aca4-77dd61bb7a21",
   "metadata": {},
   "outputs": [
    {
     "name": "stdout",
     "output_type": "stream",
     "text": [
      "(129663, 90) (129663, 9)\n"
     ]
    }
   ],
   "source": [
    "ocsvm_dp = DataPreprocess(dataset_dir, 'ocsvm')\n",
    "ocsvm_scaled_vol_data, ocsvm_scaled_other_data = ocsvm_dp.data_preprocess()\n",
    "print(ocsvm_scaled_vol_data.shape, ocsvm_scaled_other_data.shape)"
   ]
  },
  {
   "cell_type": "code",
   "execution_count": 9,
   "id": "8f820f2e-99e4-4398-8c1b-902ba2aa1cfc",
   "metadata": {},
   "outputs": [
    {
     "data": {
      "text/plain": [
       "Index(['msr_data.ibm', 'msr_data.r_isol', 'msr_data.vb_max', 'msr_data.vb_min',\n",
       "       'msr_tbmax_raw', 'msr_tbmin_raw', 'SOC', 'delta_voltage', 'delta_temp'],\n",
       "      dtype='object')"
      ]
     },
     "execution_count": 9,
     "metadata": {},
     "output_type": "execute_result"
    }
   ],
   "source": [
    "ocsvm_scaled_other_data.columns"
   ]
  },
  {
   "cell_type": "code",
   "execution_count": 10,
   "id": "197bec23-caee-4981-bbd7-6110b4593b70",
   "metadata": {},
   "outputs": [
    {
     "data": {
      "text/plain": [
       "Index(['msr_data.ibm', 'msr_data.r_isol', 'msr_data.vb_max', 'msr_data.vb_min',\n",
       "       'msr_tbmax_raw', 'msr_tbmin_raw', 'SOC', 'delta_voltage', 'delta_temp',\n",
       "       'cycle_num'],\n",
       "      dtype='object')"
      ]
     },
     "execution_count": 10,
     "metadata": {},
     "output_type": "execute_result"
    }
   ],
   "source": [
    "lstm_scaled_other_data.columns"
   ]
  },
  {
   "cell_type": "code",
   "execution_count": 14,
   "id": "94e6ecaa-1869-4cac-9950-7efd64430e47",
   "metadata": {},
   "outputs": [
    {
     "data": {
      "text/html": [
       "<div>\n",
       "<style scoped>\n",
       "    .dataframe tbody tr th:only-of-type {\n",
       "        vertical-align: middle;\n",
       "    }\n",
       "\n",
       "    .dataframe tbody tr th {\n",
       "        vertical-align: top;\n",
       "    }\n",
       "\n",
       "    .dataframe thead th {\n",
       "        text-align: right;\n",
       "    }\n",
       "</style>\n",
       "<table border=\"1\" class=\"dataframe\">\n",
       "  <thead>\n",
       "    <tr style=\"text-align: right;\">\n",
       "      <th></th>\n",
       "      <th>msr_data.ibm</th>\n",
       "      <th>msr_data.r_isol</th>\n",
       "      <th>msr_data.vb_max</th>\n",
       "      <th>msr_data.vb_min</th>\n",
       "      <th>msr_tbmax_raw</th>\n",
       "      <th>msr_tbmin_raw</th>\n",
       "      <th>SOC</th>\n",
       "      <th>delta_voltage</th>\n",
       "      <th>delta_temp</th>\n",
       "    </tr>\n",
       "  </thead>\n",
       "  <tbody>\n",
       "    <tr>\n",
       "      <th>0</th>\n",
       "      <td>0.990020</td>\n",
       "      <td>0.0</td>\n",
       "      <td>0.400402</td>\n",
       "      <td>0.398390</td>\n",
       "      <td>0.015152</td>\n",
       "      <td>0.097222</td>\n",
       "      <td>0.480932</td>\n",
       "      <td>0.5</td>\n",
       "      <td>0.194444</td>\n",
       "    </tr>\n",
       "    <tr>\n",
       "      <th>1</th>\n",
       "      <td>0.990685</td>\n",
       "      <td>0.0</td>\n",
       "      <td>0.398390</td>\n",
       "      <td>0.398390</td>\n",
       "      <td>0.015152</td>\n",
       "      <td>0.097222</td>\n",
       "      <td>0.480932</td>\n",
       "      <td>0.4</td>\n",
       "      <td>0.194444</td>\n",
       "    </tr>\n",
       "    <tr>\n",
       "      <th>2</th>\n",
       "      <td>0.990020</td>\n",
       "      <td>0.0</td>\n",
       "      <td>0.400402</td>\n",
       "      <td>0.398390</td>\n",
       "      <td>0.015152</td>\n",
       "      <td>0.097222</td>\n",
       "      <td>0.480932</td>\n",
       "      <td>0.5</td>\n",
       "      <td>0.194444</td>\n",
       "    </tr>\n",
       "    <tr>\n",
       "      <th>3</th>\n",
       "      <td>0.990685</td>\n",
       "      <td>0.0</td>\n",
       "      <td>0.398390</td>\n",
       "      <td>0.398390</td>\n",
       "      <td>0.000000</td>\n",
       "      <td>0.097222</td>\n",
       "      <td>0.480932</td>\n",
       "      <td>0.4</td>\n",
       "      <td>0.166667</td>\n",
       "    </tr>\n",
       "    <tr>\n",
       "      <th>4</th>\n",
       "      <td>0.992681</td>\n",
       "      <td>0.0</td>\n",
       "      <td>0.398390</td>\n",
       "      <td>0.400402</td>\n",
       "      <td>0.000000</td>\n",
       "      <td>0.097222</td>\n",
       "      <td>0.480932</td>\n",
       "      <td>0.3</td>\n",
       "      <td>0.166667</td>\n",
       "    </tr>\n",
       "    <tr>\n",
       "      <th>...</th>\n",
       "      <td>...</td>\n",
       "      <td>...</td>\n",
       "      <td>...</td>\n",
       "      <td>...</td>\n",
       "      <td>...</td>\n",
       "      <td>...</td>\n",
       "      <td>...</td>\n",
       "      <td>...</td>\n",
       "      <td>...</td>\n",
       "    </tr>\n",
       "    <tr>\n",
       "      <th>129658</th>\n",
       "      <td>0.592814</td>\n",
       "      <td>0.0</td>\n",
       "      <td>0.839034</td>\n",
       "      <td>0.841046</td>\n",
       "      <td>0.939394</td>\n",
       "      <td>1.000000</td>\n",
       "      <td>0.851695</td>\n",
       "      <td>0.3</td>\n",
       "      <td>0.083333</td>\n",
       "    </tr>\n",
       "    <tr>\n",
       "      <th>129659</th>\n",
       "      <td>0.592149</td>\n",
       "      <td>0.0</td>\n",
       "      <td>0.839034</td>\n",
       "      <td>0.843058</td>\n",
       "      <td>0.939394</td>\n",
       "      <td>1.000000</td>\n",
       "      <td>0.851695</td>\n",
       "      <td>0.2</td>\n",
       "      <td>0.083333</td>\n",
       "    </tr>\n",
       "    <tr>\n",
       "      <th>129660</th>\n",
       "      <td>0.592814</td>\n",
       "      <td>0.0</td>\n",
       "      <td>0.837022</td>\n",
       "      <td>0.841046</td>\n",
       "      <td>0.954545</td>\n",
       "      <td>1.000000</td>\n",
       "      <td>0.851695</td>\n",
       "      <td>0.2</td>\n",
       "      <td>0.111111</td>\n",
       "    </tr>\n",
       "    <tr>\n",
       "      <th>129661</th>\n",
       "      <td>0.592814</td>\n",
       "      <td>0.0</td>\n",
       "      <td>0.839034</td>\n",
       "      <td>0.841046</td>\n",
       "      <td>0.954545</td>\n",
       "      <td>1.000000</td>\n",
       "      <td>0.851695</td>\n",
       "      <td>0.3</td>\n",
       "      <td>0.111111</td>\n",
       "    </tr>\n",
       "    <tr>\n",
       "      <th>129662</th>\n",
       "      <td>0.591484</td>\n",
       "      <td>0.0</td>\n",
       "      <td>0.839034</td>\n",
       "      <td>0.841046</td>\n",
       "      <td>0.954545</td>\n",
       "      <td>1.000000</td>\n",
       "      <td>0.851695</td>\n",
       "      <td>0.3</td>\n",
       "      <td>0.111111</td>\n",
       "    </tr>\n",
       "  </tbody>\n",
       "</table>\n",
       "<p>129663 rows × 9 columns</p>\n",
       "</div>"
      ],
      "text/plain": [
       "        msr_data.ibm  msr_data.r_isol  msr_data.vb_max  msr_data.vb_min  \\\n",
       "0           0.990020              0.0         0.400402         0.398390   \n",
       "1           0.990685              0.0         0.398390         0.398390   \n",
       "2           0.990020              0.0         0.400402         0.398390   \n",
       "3           0.990685              0.0         0.398390         0.398390   \n",
       "4           0.992681              0.0         0.398390         0.400402   \n",
       "...              ...              ...              ...              ...   \n",
       "129658      0.592814              0.0         0.839034         0.841046   \n",
       "129659      0.592149              0.0         0.839034         0.843058   \n",
       "129660      0.592814              0.0         0.837022         0.841046   \n",
       "129661      0.592814              0.0         0.839034         0.841046   \n",
       "129662      0.591484              0.0         0.839034         0.841046   \n",
       "\n",
       "        msr_tbmax_raw  msr_tbmin_raw       SOC  delta_voltage  delta_temp  \n",
       "0            0.015152       0.097222  0.480932            0.5    0.194444  \n",
       "1            0.015152       0.097222  0.480932            0.4    0.194444  \n",
       "2            0.015152       0.097222  0.480932            0.5    0.194444  \n",
       "3            0.000000       0.097222  0.480932            0.4    0.166667  \n",
       "4            0.000000       0.097222  0.480932            0.3    0.166667  \n",
       "...               ...            ...       ...            ...         ...  \n",
       "129658       0.939394       1.000000  0.851695            0.3    0.083333  \n",
       "129659       0.939394       1.000000  0.851695            0.2    0.083333  \n",
       "129660       0.954545       1.000000  0.851695            0.2    0.111111  \n",
       "129661       0.954545       1.000000  0.851695            0.3    0.111111  \n",
       "129662       0.954545       1.000000  0.851695            0.3    0.111111  \n",
       "\n",
       "[129663 rows x 9 columns]"
      ]
     },
     "execution_count": 14,
     "metadata": {},
     "output_type": "execute_result"
    }
   ],
   "source": [
    "ocsvm_scaled_other_data"
   ]
  }
 ],
 "metadata": {
  "kernelspec": {
   "display_name": "hyundai-py39",
   "language": "python",
   "name": "hyundai-py39"
  },
  "language_info": {
   "codemirror_mode": {
    "name": "ipython",
    "version": 3
   },
   "file_extension": ".py",
   "mimetype": "text/x-python",
   "name": "python",
   "nbconvert_exporter": "python",
   "pygments_lexer": "ipython3",
   "version": "3.11.5"
  }
 },
 "nbformat": 4,
 "nbformat_minor": 5
}
