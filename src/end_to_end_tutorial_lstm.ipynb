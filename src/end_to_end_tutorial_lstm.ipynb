{
 "cells": [
  {
   "cell_type": "markdown",
   "id": "c778b5c5-39a0-4fa9-b5a8-16054f0d4788",
   "metadata": {},
   "source": [
    "# End-to-end tutorial (LSTM)\n",
    "---\n",
    "현대차 제공 LSTM End to end 튜토리얼"
   ]
  },
  {
   "cell_type": "code",
   "execution_count": 1,
   "id": "f0e391d5-f497-4b6c-a0a7-309145cffa66",
   "metadata": {},
   "outputs": [],
   "source": [
    "import os\n",
    "import datetime\n",
    "import numpy as np\n",
    "import pandas as pd\n",
    "import matplotlib.pyplot as plt\n",
    "from data_preprocess import PreprocessData\n",
    "\n",
    "from sklearn.svm import OneClassSVM\n",
    "from tensorflow.keras.layers import Input, LSTM, RepeatVector, TimeDistributed, Dense, Dropout\n",
    "from tensorflow.keras.models import Model\n",
    "from tensorflow.keras.callbacks import EarlyStopping\n",
    "from tensorflow.keras.optimizers import Adam"
   ]
  },
  {
   "cell_type": "markdown",
   "id": "0088ab49-a2ba-4920-aed7-fc03c8f38fcd",
   "metadata": {},
   "source": [
    "## Prepare Dataset"
   ]
  },
  {
   "cell_type": "code",
   "execution_count": 2,
   "id": "50fb6f7e-6e49-45ce-b6a3-382204cc5463",
   "metadata": {},
   "outputs": [],
   "source": [
    "root_dir = '../datasets'\n",
    "fname = 'pu_batt_sample10.csv'\n",
    "dataset_dir = os.path.join(root_dir, fname)"
   ]
  },
  {
   "cell_type": "code",
   "execution_count": 3,
   "id": "3d1ad7ba-c6f4-4bed-8755-adbf2bac3d23",
   "metadata": {},
   "outputs": [
    {
     "name": "stdout",
     "output_type": "stream",
     "text": [
      "(129663, 90) (129663, 10)\n"
     ]
    }
   ],
   "source": [
    "lstm_dp = PreprocessData(dataset_dir, 'lstm')\n",
    "lstm_scaled_vol_data, lstm_scaled_other_data = lstm_dp.preprocess_data()\n",
    "print(lstm_scaled_vol_data.shape, lstm_scaled_other_data.shape)"
   ]
  },
  {
   "cell_type": "markdown",
   "id": "8d06faf1-15b0-40f3-a506-406e6db7f9b1",
   "metadata": {},
   "source": [
    "## Dimensionality Reduction"
   ]
  },
  {
   "cell_type": "code",
   "execution_count": 4,
   "id": "4e4312df-3d83-4f57-b1d1-1d1aadf44cab",
   "metadata": {},
   "outputs": [
    {
     "name": "stdout",
     "output_type": "stream",
     "text": [
      "Model: \"model\"\n",
      "_________________________________________________________________\n",
      " Layer (type)                Output Shape              Param #   \n",
      "=================================================================\n",
      " input_1 (InputLayer)        [(None, 90)]              0         \n",
      "                                                                 \n",
      " encode1 (Dense)             (None, 64)                5824      \n",
      "                                                                 \n",
      " encode2 (Dense)             (None, 32)                2080      \n",
      "                                                                 \n",
      " encode3 (Dense)             (None, 10)                330       \n",
      "                                                                 \n",
      " decode1 (Dense)             (None, 32)                352       \n",
      "                                                                 \n",
      " decode2 (Dense)             (None, 64)                2112      \n",
      "                                                                 \n",
      " decode3 (Dense)             (None, 90)                5850      \n",
      "                                                                 \n",
      "=================================================================\n",
      "Total params: 16548 (64.64 KB)\n",
      "Trainable params: 16548 (64.64 KB)\n",
      "Non-trainable params: 0 (0.00 Byte)\n",
      "_________________________________________________________________\n"
     ]
    }
   ],
   "source": [
    "# %% 모델학습\n",
    "# AE 전셀전압 차원축소\n",
    "inputs = Input(shape=(lstm_scaled_vol_data.shape[1],))\n",
    "encoded = Dense(64, activation='tanh', name=\"encode1\")(inputs)\n",
    "encoded = Dense(32, activation='tanh', name=\"encode2\")(encoded)\n",
    "encoded = Dense(10, activation='tanh', name=\"encode3\")(encoded)\n",
    "decoded = Dense(32, activation='tanh', name=\"decode1\")(encoded)\n",
    "decoded = Dense(64, activation='tanh', name=\"decode2\")(decoded)\n",
    "decoded = Dense(lstm_scaled_vol_data.shape[1], name=\"decode3\")(decoded)\n",
    "autoencoder = Model(inputs, decoded)\n",
    "autoencoder.summary()"
   ]
  },
  {
   "cell_type": "code",
   "execution_count": 5,
   "id": "585a2d75-7605-4361-b647-6b8388fc1edb",
   "metadata": {},
   "outputs": [
    {
     "name": "stderr",
     "output_type": "stream",
     "text": [
      "WARNING:absl:At this time, the v2.11+ optimizer `tf.keras.optimizers.Adam` runs slowly on M1/M2 Macs, please use the legacy Keras optimizer instead, located at `tf.keras.optimizers.legacy.Adam`.\n",
      "WARNING:absl:There is a known slowdown when using v2.11+ Keras optimizers on M1/M2 Macs. Falling back to the legacy Keras optimizer, i.e., `tf.keras.optimizers.legacy.Adam`.\n"
     ]
    },
    {
     "name": "stdout",
     "output_type": "stream",
     "text": [
      "Epoch 1/3\n",
      "3242/3242 [==============================] - 3s 985us/step - loss: 0.0026 - val_loss: 7.1692e-05\n",
      "Epoch 2/3\n",
      "3242/3242 [==============================] - 3s 1ms/step - loss: 4.0099e-05 - val_loss: 5.0459e-05\n",
      "Epoch 3/3\n",
      "3242/3242 [==============================] - 3s 981us/step - loss: 3.6107e-05 - val_loss: 5.0315e-06\n"
     ]
    }
   ],
   "source": [
    "# %% Early stopping 콜백 정의\n",
    "early_stopping = EarlyStopping(monitor='val_loss', patience=10, verbose=1)\n",
    "\n",
    "# AE 모델 컴파일 및 학습\n",
    "optimizer = Adam(learning_rate=0.001, beta_1=0.9, beta_2=0.999)\n",
    "autoencoder.compile(optimizer=optimizer, loss='mse')\n",
    "history = autoencoder.fit(lstm_scaled_vol_data, lstm_scaled_vol_data, batch_size=32, epochs=3, validation_split=0.2,\n",
    "                          callbacks=[early_stopping])  # Early stopping 콜백 추가"
   ]
  },
  {
   "cell_type": "code",
   "execution_count": 6,
   "id": "937b2d93-da37-4478-a68a-56a82c8f32c7",
   "metadata": {},
   "outputs": [
    {
     "name": "stdout",
     "output_type": "stream",
     "text": [
      "0 input_1 <keras.src.engine.input_layer.InputLayer object at 0x135808a30>\n",
      "1 encode1 <keras.src.layers.core.dense.Dense object at 0x141f3b160>\n",
      "2 encode2 <keras.src.layers.core.dense.Dense object at 0x141f3bf70>\n",
      "3 encode3 <keras.src.layers.core.dense.Dense object at 0x141f3bf10>\n",
      "4 decode1 <keras.src.layers.core.dense.Dense object at 0x141da46a0>\n",
      "5 decode2 <keras.src.layers.core.dense.Dense object at 0x141da44f0>\n",
      "6 decode3 <keras.src.layers.core.dense.Dense object at 0x141da4460>\n"
     ]
    }
   ],
   "source": [
    "for idx, layer in enumerate(autoencoder.layers):\n",
    "    print(idx, layer.name, layer)"
   ]
  },
  {
   "cell_type": "code",
   "execution_count": 7,
   "id": "13cbbd5a-08bf-4f25-a802-12778bed8d51",
   "metadata": {},
   "outputs": [
    {
     "name": "stdout",
     "output_type": "stream",
     "text": [
      "Model: \"model_1\"\n",
      "_________________________________________________________________\n",
      " Layer (type)                Output Shape              Param #   \n",
      "=================================================================\n",
      " input_1 (InputLayer)        [(None, 90)]              0         \n",
      "                                                                 \n",
      " encode1 (Dense)             (None, 64)                5824      \n",
      "                                                                 \n",
      " encode2 (Dense)             (None, 32)                2080      \n",
      "                                                                 \n",
      " encode3 (Dense)             (None, 10)                330       \n",
      "                                                                 \n",
      "=================================================================\n",
      "Total params: 8234 (32.16 KB)\n",
      "Trainable params: 8234 (32.16 KB)\n",
      "Non-trainable params: 0 (0.00 Byte)\n",
      "_________________________________________________________________\n"
     ]
    }
   ],
   "source": [
    "encoder_model = Model(autoencoder.layers[0].input, autoencoder.layers[3].output)\n",
    "encoder_model.summary()"
   ]
  },
  {
   "cell_type": "code",
   "execution_count": 8,
   "id": "6d42dbd4-4009-4e01-80d1-75ae7c7105a2",
   "metadata": {},
   "outputs": [
    {
     "name": "stdout",
     "output_type": "stream",
     "text": [
      "4052/4052 [==============================] - 1s 336us/step\n"
     ]
    }
   ],
   "source": [
    "latent_vector = encoder_model.predict(lstm_scaled_vol_data)"
   ]
  },
  {
   "cell_type": "markdown",
   "id": "144d6368-e461-4191-8cdf-bb9712eb56d0",
   "metadata": {},
   "source": [
    "## Train LSTM model"
   ]
  },
  {
   "cell_type": "markdown",
   "id": "33bdc04a-b136-4c26-b3fe-b6bfabe37dcd",
   "metadata": {},
   "source": [
    "### Preprocess data"
   ]
  },
  {
   "cell_type": "code",
   "execution_count": 9,
   "id": "d722443f-125e-43ca-a151-6863e2d0d9dd",
   "metadata": {},
   "outputs": [],
   "source": [
    "# %%\n",
    "df_latent_vector = pd.DataFrame(latent_vector)\n",
    "\n",
    "# LSTM_AE 입력 데이터\n",
    "ad_train_data = pd.concat([lstm_scaled_other_data, df_latent_vector], axis=1)"
   ]
  },
  {
   "cell_type": "code",
   "execution_count": 10,
   "id": "630c59bc-a51e-4a0e-b344-197ce6b9f557",
   "metadata": {},
   "outputs": [],
   "source": [
    "# %% 입력데이터 윈도윙\n",
    "window_size = 200\n",
    "stride = 100\n",
    "windowed_data = []\n",
    "\n",
    "for i in range(int(max(ad_train_data['cycle_num'])) + 1):\n",
    "    window1 = ad_train_data.loc[ad_train_data['cycle_num'] == i]\n",
    "\n",
    "    for j in range(0, len(window1) - window_size, stride):\n",
    "        window2 = window1.iloc[j:j + window_size]\n",
    "        windowed_data.append(window2)\n",
    "\n",
    "np_windows = np.array(windowed_data)\n",
    "# cycle_num 컬럼 삭제\n",
    "train_data = np.delete(np_windows, [9], axis=2)"
   ]
  },
  {
   "cell_type": "code",
   "execution_count": 21,
   "id": "f63d5091-4dc5-4be0-a523-f87399f768d1",
   "metadata": {},
   "outputs": [
    {
     "data": {
      "text/html": [
       "<div>\n",
       "<style scoped>\n",
       "    .dataframe tbody tr th:only-of-type {\n",
       "        vertical-align: middle;\n",
       "    }\n",
       "\n",
       "    .dataframe tbody tr th {\n",
       "        vertical-align: top;\n",
       "    }\n",
       "\n",
       "    .dataframe thead th {\n",
       "        text-align: right;\n",
       "    }\n",
       "</style>\n",
       "<table border=\"1\" class=\"dataframe\">\n",
       "  <thead>\n",
       "    <tr style=\"text-align: right;\">\n",
       "      <th></th>\n",
       "      <th>msr_data.ibm</th>\n",
       "      <th>msr_data.r_isol</th>\n",
       "      <th>msr_data.vb_max</th>\n",
       "      <th>msr_data.vb_min</th>\n",
       "      <th>msr_tbmax_raw</th>\n",
       "      <th>msr_tbmin_raw</th>\n",
       "      <th>SOC</th>\n",
       "      <th>delta_voltage</th>\n",
       "      <th>delta_temp</th>\n",
       "      <th>cycle_num</th>\n",
       "      <th>0</th>\n",
       "      <th>1</th>\n",
       "      <th>2</th>\n",
       "      <th>3</th>\n",
       "      <th>4</th>\n",
       "      <th>5</th>\n",
       "      <th>6</th>\n",
       "      <th>7</th>\n",
       "      <th>8</th>\n",
       "      <th>9</th>\n",
       "    </tr>\n",
       "  </thead>\n",
       "  <tbody>\n",
       "    <tr>\n",
       "      <th>112323</th>\n",
       "      <td>0.993347</td>\n",
       "      <td>0.0</td>\n",
       "      <td>0.364185</td>\n",
       "      <td>0.362173</td>\n",
       "      <td>0.651515</td>\n",
       "      <td>0.763889</td>\n",
       "      <td>0.459746</td>\n",
       "      <td>0.5</td>\n",
       "      <td>0.027778</td>\n",
       "      <td>1.0</td>\n",
       "      <td>0.178869</td>\n",
       "      <td>0.189242</td>\n",
       "      <td>-0.962919</td>\n",
       "      <td>0.330895</td>\n",
       "      <td>-0.817248</td>\n",
       "      <td>-0.150038</td>\n",
       "      <td>0.390825</td>\n",
       "      <td>0.005866</td>\n",
       "      <td>0.235438</td>\n",
       "      <td>-0.186290</td>\n",
       "    </tr>\n",
       "    <tr>\n",
       "      <th>112324</th>\n",
       "      <td>0.994677</td>\n",
       "      <td>0.0</td>\n",
       "      <td>0.364185</td>\n",
       "      <td>0.362173</td>\n",
       "      <td>0.651515</td>\n",
       "      <td>0.763889</td>\n",
       "      <td>0.459746</td>\n",
       "      <td>0.5</td>\n",
       "      <td>0.027778</td>\n",
       "      <td>1.0</td>\n",
       "      <td>0.178345</td>\n",
       "      <td>0.190299</td>\n",
       "      <td>-0.962866</td>\n",
       "      <td>0.330352</td>\n",
       "      <td>-0.817157</td>\n",
       "      <td>-0.149989</td>\n",
       "      <td>0.391555</td>\n",
       "      <td>0.003831</td>\n",
       "      <td>0.234029</td>\n",
       "      <td>-0.185829</td>\n",
       "    </tr>\n",
       "    <tr>\n",
       "      <th>112325</th>\n",
       "      <td>0.995343</td>\n",
       "      <td>0.0</td>\n",
       "      <td>0.364185</td>\n",
       "      <td>0.364185</td>\n",
       "      <td>0.651515</td>\n",
       "      <td>0.763889</td>\n",
       "      <td>0.459746</td>\n",
       "      <td>0.4</td>\n",
       "      <td>0.027778</td>\n",
       "      <td>1.0</td>\n",
       "      <td>0.178679</td>\n",
       "      <td>0.190255</td>\n",
       "      <td>-0.962937</td>\n",
       "      <td>0.330453</td>\n",
       "      <td>-0.816842</td>\n",
       "      <td>-0.149733</td>\n",
       "      <td>0.391584</td>\n",
       "      <td>0.003075</td>\n",
       "      <td>0.234045</td>\n",
       "      <td>-0.185794</td>\n",
       "    </tr>\n",
       "    <tr>\n",
       "      <th>112326</th>\n",
       "      <td>0.995343</td>\n",
       "      <td>0.0</td>\n",
       "      <td>0.364185</td>\n",
       "      <td>0.362173</td>\n",
       "      <td>0.651515</td>\n",
       "      <td>0.763889</td>\n",
       "      <td>0.459746</td>\n",
       "      <td>0.5</td>\n",
       "      <td>0.027778</td>\n",
       "      <td>1.0</td>\n",
       "      <td>0.179762</td>\n",
       "      <td>0.190029</td>\n",
       "      <td>-0.962999</td>\n",
       "      <td>0.330712</td>\n",
       "      <td>-0.816793</td>\n",
       "      <td>-0.148719</td>\n",
       "      <td>0.391876</td>\n",
       "      <td>0.002474</td>\n",
       "      <td>0.233523</td>\n",
       "      <td>-0.185828</td>\n",
       "    </tr>\n",
       "    <tr>\n",
       "      <th>112327</th>\n",
       "      <td>0.995343</td>\n",
       "      <td>0.0</td>\n",
       "      <td>0.362173</td>\n",
       "      <td>0.362173</td>\n",
       "      <td>0.651515</td>\n",
       "      <td>0.763889</td>\n",
       "      <td>0.459746</td>\n",
       "      <td>0.4</td>\n",
       "      <td>0.027778</td>\n",
       "      <td>1.0</td>\n",
       "      <td>0.179022</td>\n",
       "      <td>0.190603</td>\n",
       "      <td>-0.962952</td>\n",
       "      <td>0.331410</td>\n",
       "      <td>-0.817016</td>\n",
       "      <td>-0.150220</td>\n",
       "      <td>0.391361</td>\n",
       "      <td>0.003242</td>\n",
       "      <td>0.234635</td>\n",
       "      <td>-0.185753</td>\n",
       "    </tr>\n",
       "    <tr>\n",
       "      <th>...</th>\n",
       "      <td>...</td>\n",
       "      <td>...</td>\n",
       "      <td>...</td>\n",
       "      <td>...</td>\n",
       "      <td>...</td>\n",
       "      <td>...</td>\n",
       "      <td>...</td>\n",
       "      <td>...</td>\n",
       "      <td>...</td>\n",
       "      <td>...</td>\n",
       "      <td>...</td>\n",
       "      <td>...</td>\n",
       "      <td>...</td>\n",
       "      <td>...</td>\n",
       "      <td>...</td>\n",
       "      <td>...</td>\n",
       "      <td>...</td>\n",
       "      <td>...</td>\n",
       "      <td>...</td>\n",
       "      <td>...</td>\n",
       "    </tr>\n",
       "    <tr>\n",
       "      <th>129658</th>\n",
       "      <td>0.592814</td>\n",
       "      <td>0.0</td>\n",
       "      <td>0.839034</td>\n",
       "      <td>0.841046</td>\n",
       "      <td>0.939394</td>\n",
       "      <td>1.000000</td>\n",
       "      <td>0.851695</td>\n",
       "      <td>0.3</td>\n",
       "      <td>0.083333</td>\n",
       "      <td>1.0</td>\n",
       "      <td>-0.132944</td>\n",
       "      <td>0.087099</td>\n",
       "      <td>-0.577190</td>\n",
       "      <td>-0.129203</td>\n",
       "      <td>-0.870472</td>\n",
       "      <td>-0.581084</td>\n",
       "      <td>0.617345</td>\n",
       "      <td>0.349823</td>\n",
       "      <td>0.595218</td>\n",
       "      <td>-0.524977</td>\n",
       "    </tr>\n",
       "    <tr>\n",
       "      <th>129659</th>\n",
       "      <td>0.592149</td>\n",
       "      <td>0.0</td>\n",
       "      <td>0.839034</td>\n",
       "      <td>0.843058</td>\n",
       "      <td>0.939394</td>\n",
       "      <td>1.000000</td>\n",
       "      <td>0.851695</td>\n",
       "      <td>0.2</td>\n",
       "      <td>0.083333</td>\n",
       "      <td>1.0</td>\n",
       "      <td>-0.132806</td>\n",
       "      <td>0.086710</td>\n",
       "      <td>-0.577390</td>\n",
       "      <td>-0.129419</td>\n",
       "      <td>-0.870590</td>\n",
       "      <td>-0.580587</td>\n",
       "      <td>0.617017</td>\n",
       "      <td>0.350955</td>\n",
       "      <td>0.596226</td>\n",
       "      <td>-0.525566</td>\n",
       "    </tr>\n",
       "    <tr>\n",
       "      <th>129660</th>\n",
       "      <td>0.592814</td>\n",
       "      <td>0.0</td>\n",
       "      <td>0.837022</td>\n",
       "      <td>0.841046</td>\n",
       "      <td>0.954545</td>\n",
       "      <td>1.000000</td>\n",
       "      <td>0.851695</td>\n",
       "      <td>0.2</td>\n",
       "      <td>0.111111</td>\n",
       "      <td>1.0</td>\n",
       "      <td>-0.132002</td>\n",
       "      <td>0.086907</td>\n",
       "      <td>-0.577320</td>\n",
       "      <td>-0.128970</td>\n",
       "      <td>-0.870299</td>\n",
       "      <td>-0.581141</td>\n",
       "      <td>0.617286</td>\n",
       "      <td>0.351106</td>\n",
       "      <td>0.595929</td>\n",
       "      <td>-0.525245</td>\n",
       "    </tr>\n",
       "    <tr>\n",
       "      <th>129661</th>\n",
       "      <td>0.592814</td>\n",
       "      <td>0.0</td>\n",
       "      <td>0.839034</td>\n",
       "      <td>0.841046</td>\n",
       "      <td>0.954545</td>\n",
       "      <td>1.000000</td>\n",
       "      <td>0.851695</td>\n",
       "      <td>0.3</td>\n",
       "      <td>0.111111</td>\n",
       "      <td>1.0</td>\n",
       "      <td>-0.132791</td>\n",
       "      <td>0.086949</td>\n",
       "      <td>-0.577147</td>\n",
       "      <td>-0.129423</td>\n",
       "      <td>-0.870724</td>\n",
       "      <td>-0.580742</td>\n",
       "      <td>0.617423</td>\n",
       "      <td>0.351090</td>\n",
       "      <td>0.595582</td>\n",
       "      <td>-0.524878</td>\n",
       "    </tr>\n",
       "    <tr>\n",
       "      <th>129662</th>\n",
       "      <td>0.591484</td>\n",
       "      <td>0.0</td>\n",
       "      <td>0.839034</td>\n",
       "      <td>0.841046</td>\n",
       "      <td>0.954545</td>\n",
       "      <td>1.000000</td>\n",
       "      <td>0.851695</td>\n",
       "      <td>0.3</td>\n",
       "      <td>0.111111</td>\n",
       "      <td>1.0</td>\n",
       "      <td>-0.133212</td>\n",
       "      <td>0.085826</td>\n",
       "      <td>-0.576965</td>\n",
       "      <td>-0.130208</td>\n",
       "      <td>-0.870363</td>\n",
       "      <td>-0.580963</td>\n",
       "      <td>0.617262</td>\n",
       "      <td>0.350641</td>\n",
       "      <td>0.595127</td>\n",
       "      <td>-0.525276</td>\n",
       "    </tr>\n",
       "  </tbody>\n",
       "</table>\n",
       "<p>17340 rows × 20 columns</p>\n",
       "</div>"
      ],
      "text/plain": [
       "        msr_data.ibm  msr_data.r_isol  msr_data.vb_max  msr_data.vb_min  \\\n",
       "112323      0.993347              0.0         0.364185         0.362173   \n",
       "112324      0.994677              0.0         0.364185         0.362173   \n",
       "112325      0.995343              0.0         0.364185         0.364185   \n",
       "112326      0.995343              0.0         0.364185         0.362173   \n",
       "112327      0.995343              0.0         0.362173         0.362173   \n",
       "...              ...              ...              ...              ...   \n",
       "129658      0.592814              0.0         0.839034         0.841046   \n",
       "129659      0.592149              0.0         0.839034         0.843058   \n",
       "129660      0.592814              0.0         0.837022         0.841046   \n",
       "129661      0.592814              0.0         0.839034         0.841046   \n",
       "129662      0.591484              0.0         0.839034         0.841046   \n",
       "\n",
       "        msr_tbmax_raw  msr_tbmin_raw       SOC  delta_voltage  delta_temp  \\\n",
       "112323       0.651515       0.763889  0.459746            0.5    0.027778   \n",
       "112324       0.651515       0.763889  0.459746            0.5    0.027778   \n",
       "112325       0.651515       0.763889  0.459746            0.4    0.027778   \n",
       "112326       0.651515       0.763889  0.459746            0.5    0.027778   \n",
       "112327       0.651515       0.763889  0.459746            0.4    0.027778   \n",
       "...               ...            ...       ...            ...         ...   \n",
       "129658       0.939394       1.000000  0.851695            0.3    0.083333   \n",
       "129659       0.939394       1.000000  0.851695            0.2    0.083333   \n",
       "129660       0.954545       1.000000  0.851695            0.2    0.111111   \n",
       "129661       0.954545       1.000000  0.851695            0.3    0.111111   \n",
       "129662       0.954545       1.000000  0.851695            0.3    0.111111   \n",
       "\n",
       "        cycle_num         0         1         2         3         4         5  \\\n",
       "112323        1.0  0.178869  0.189242 -0.962919  0.330895 -0.817248 -0.150038   \n",
       "112324        1.0  0.178345  0.190299 -0.962866  0.330352 -0.817157 -0.149989   \n",
       "112325        1.0  0.178679  0.190255 -0.962937  0.330453 -0.816842 -0.149733   \n",
       "112326        1.0  0.179762  0.190029 -0.962999  0.330712 -0.816793 -0.148719   \n",
       "112327        1.0  0.179022  0.190603 -0.962952  0.331410 -0.817016 -0.150220   \n",
       "...           ...       ...       ...       ...       ...       ...       ...   \n",
       "129658        1.0 -0.132944  0.087099 -0.577190 -0.129203 -0.870472 -0.581084   \n",
       "129659        1.0 -0.132806  0.086710 -0.577390 -0.129419 -0.870590 -0.580587   \n",
       "129660        1.0 -0.132002  0.086907 -0.577320 -0.128970 -0.870299 -0.581141   \n",
       "129661        1.0 -0.132791  0.086949 -0.577147 -0.129423 -0.870724 -0.580742   \n",
       "129662        1.0 -0.133212  0.085826 -0.576965 -0.130208 -0.870363 -0.580963   \n",
       "\n",
       "               6         7         8         9  \n",
       "112323  0.390825  0.005866  0.235438 -0.186290  \n",
       "112324  0.391555  0.003831  0.234029 -0.185829  \n",
       "112325  0.391584  0.003075  0.234045 -0.185794  \n",
       "112326  0.391876  0.002474  0.233523 -0.185828  \n",
       "112327  0.391361  0.003242  0.234635 -0.185753  \n",
       "...          ...       ...       ...       ...  \n",
       "129658  0.617345  0.349823  0.595218 -0.524977  \n",
       "129659  0.617017  0.350955  0.596226 -0.525566  \n",
       "129660  0.617286  0.351106  0.595929 -0.525245  \n",
       "129661  0.617423  0.351090  0.595582 -0.524878  \n",
       "129662  0.617262  0.350641  0.595127 -0.525276  \n",
       "\n",
       "[17340 rows x 20 columns]"
      ]
     },
     "execution_count": 21,
     "metadata": {},
     "output_type": "execute_result"
    }
   ],
   "source": [
    "ad_train_data.loc[ad_train_data['cycle_num'] == 1]"
   ]
  },
  {
   "cell_type": "markdown",
   "id": "e0c0f38e-487e-4a0b-bfb4-7fd9f95bb371",
   "metadata": {},
   "source": [
    "### Build  model"
   ]
  },
  {
   "cell_type": "code",
   "execution_count": 11,
   "id": "2025760f-fe5f-4f14-a4a0-4ba21503e862",
   "metadata": {},
   "outputs": [
    {
     "name": "stdout",
     "output_type": "stream",
     "text": [
      "Model: \"model_2\"\n",
      "_________________________________________________________________\n",
      " Layer (type)                Output Shape              Param #   \n",
      "=================================================================\n",
      " input_2 (InputLayer)        [(None, 200, 19)]         0         \n",
      "                                                                 \n",
      " lstm (LSTM)                 (None, 200, 64)           21504     \n",
      "                                                                 \n",
      " dropout (Dropout)           (None, 200, 64)           0         \n",
      "                                                                 \n",
      " lstm_1 (LSTM)               (None, 200, 32)           12416     \n",
      "                                                                 \n",
      " lstm_2 (LSTM)               (None, 8)                 1312      \n",
      "                                                                 \n",
      " repeat_vector (RepeatVecto  (None, 200, 8)            0         \n",
      " r)                                                              \n",
      "                                                                 \n",
      " lstm_3 (LSTM)               (None, 200, 32)           5248      \n",
      "                                                                 \n",
      " lstm_4 (LSTM)               (None, 200, 64)           24832     \n",
      "                                                                 \n",
      " time_distributed (TimeDist  (None, 200, 19)           1235      \n",
      " ributed)                                                        \n",
      "                                                                 \n",
      "=================================================================\n",
      "Total params: 66547 (259.95 KB)\n",
      "Trainable params: 66547 (259.95 KB)\n",
      "Non-trainable params: 0 (0.00 Byte)\n",
      "_________________________________________________________________\n"
     ]
    }
   ],
   "source": [
    "# %% 이상탐지 모델 설계\n",
    "inputs = Input(shape=(train_data.shape[1], train_data.shape[-1]))\n",
    "encoded = LSTM(64, activation='tanh', return_sequences=True)(inputs)\n",
    "encoded = Dropout(0.2)(encoded)\n",
    "encoded = LSTM(32, activation='tanh', return_sequences=True)(encoded)\n",
    "encoded = LSTM(8, activation='tanh', return_sequences=False)(encoded)\n",
    "decoded = RepeatVector(train_data.shape[1])(encoded)\n",
    "decoded = LSTM(32, activation='tanh', return_sequences=True)(decoded)\n",
    "decoded = LSTM(64, activation='tanh', return_sequences=True)(decoded)\n",
    "decoded = TimeDistributed(Dense(train_data.shape[-1]))(decoded)\n",
    "LSTM_autoencoder = Model(inputs, decoded)\n",
    "LSTM_autoencoder.summary()"
   ]
  },
  {
   "cell_type": "markdown",
   "id": "b0ae844e-b8a3-4964-8c79-e8ba5779e95d",
   "metadata": {},
   "source": [
    "### Train  model"
   ]
  },
  {
   "cell_type": "code",
   "execution_count": 12,
   "id": "ab1c75ad-3df2-43f1-b716-07976e08a78c",
   "metadata": {},
   "outputs": [
    {
     "name": "stderr",
     "output_type": "stream",
     "text": [
      "WARNING:absl:At this time, the v2.11+ optimizer `tf.keras.optimizers.Adam` runs slowly on M1/M2 Macs, please use the legacy Keras optimizer instead, located at `tf.keras.optimizers.legacy.Adam`.\n",
      "WARNING:absl:There is a known slowdown when using v2.11+ Keras optimizers on M1/M2 Macs. Falling back to the legacy Keras optimizer, i.e., `tf.keras.optimizers.legacy.Adam`.\n"
     ]
    },
    {
     "name": "stdout",
     "output_type": "stream",
     "text": [
      "Epoch 1/3\n",
      "10/10 [==============================] - 6s 302ms/step - loss: 0.2067 - val_loss: 0.1224\n",
      "Epoch 2/3\n",
      "10/10 [==============================] - 2s 211ms/step - loss: 0.0492 - val_loss: 0.0415\n",
      "Epoch 3/3\n",
      "10/10 [==============================] - 2s 212ms/step - loss: 0.0332 - val_loss: 0.0546\n"
     ]
    }
   ],
   "source": [
    "# %% Early stopping 콜백 정의\n",
    "early_stopping = EarlyStopping(monitor='val_loss', patience=10, verbose=1)\n",
    "\n",
    "optimizer = Adam(learning_rate=0.001, beta_1=0.9, beta_2=0.999)\n",
    "LSTM_autoencoder.compile(optimizer=optimizer, loss='mse')\n",
    "\n",
    "history = LSTM_autoencoder.fit(train_data, train_data, batch_size=32, epochs=3, validation_split=0.2,\n",
    "                               callbacks=[early_stopping])  # Early stopping 콜백 추가"
   ]
  },
  {
   "cell_type": "markdown",
   "id": "9f0c8844-5c47-4f36-b9b1-73370d17e36a",
   "metadata": {},
   "source": [
    "## Plot Result"
   ]
  },
  {
   "cell_type": "code",
   "execution_count": 13,
   "id": "3a553521-5c3a-46eb-9f67-93ce0fb391c6",
   "metadata": {},
   "outputs": [
    {
     "name": "stdout",
     "output_type": "stream",
     "text": [
      "12/12 [==============================] - 1s 49ms/step\n"
     ]
    },
    {
     "data": {
      "image/png": "[encoded data removed]",
      "text/plain": [
       "<Figure size 640x480 with 1 Axes>"
      ]
     },
     "metadata": {},
     "output_type": "display_data"
    }
   ],
   "source": [
    "# 테스트 데이터에 대한 예측 수행\n",
    "decoded_original = LSTM_autoencoder.predict(train_data)\n",
    "mse = np.mean(np.square(train_data - decoded_original), axis=(1, 2))\n",
    "\n",
    "# %%\n",
    "# Reconstruction error를 그래프로 그리기\n",
    "plt.plot(mse)\n",
    "plt.xlabel('Sample Index')\n",
    "plt.ylabel('Reconstruction Error')\n",
    "plt.title('Reconstruction Error of Test Data')\n",
    "plt.show()"
   ]
  }
 ],
 "metadata": {
  "kernelspec": {
   "display_name": "Python 3 (ipykernel)",
   "language": "python",
   "name": "python3"
  },
  "language_info": {
   "codemirror_mode": {
    "name": "ipython",
    "version": 3
   },
   "file_extension": ".py",
   "mimetype": "text/x-python",
   "name": "python",
   "nbconvert_exporter": "python",
   "pygments_lexer": "ipython3",
   "version": "3.9.18"
  }
 },
 "nbformat": 4,
 "nbformat_minor": 5
}
